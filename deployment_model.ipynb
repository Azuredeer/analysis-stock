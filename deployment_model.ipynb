{
 "cells": [
  {
   "cell_type": "code",
   "execution_count": null,
   "metadata": {},
   "outputs": [],
   "source": [
    "import streamlit as st\n",
    "import numpy as np\n",
    "import pandas as pd\n",
    "from tensorflow.keras.models import load_model\n",
    "from sklearn.preprocessing import MinMaxScaler\n",
    "\n",
    "# Load pre-trained model\n",
    "model = load_model('lstm_stock_model.h5')\n",
    "\n",
    "# Load Scaler\n",
    "scaler = MinMaxScaler(feature_range=(0, 1))\n",
    "\n",
    "# Title of the Streamlit App\n",
    "st.title(\"Stock Price Prediction App\")\n",
    "\n",
    "# Instructions\n",
    "st.write(\"\"\"\n",
    "         Input stock data to predict the **Close** price.\n",
    "         \"\"\")\n",
    "\n",
    "# Input fields for Open, High, Low prices\n",
    "open_price = st.number_input(\"Open Price\", min_value=0.0, format=\"%.2f\")\n",
    "high_price = st.number_input(\"High Price\", min_value=0.0, format=\"%.2f\")\n",
    "low_price = st.number_input(\"Low Price\", min_value=0.0, format=\"%.2f\")\n",
    "\n",
    "# Prediction button\n",
    "if st.button(\"Predict Close Price\"):\n",
    "    # Data normalization using the same scaler as during training\n",
    "    input_data = np.array([[open_price, high_price, low_price]])\n",
    "    input_data_scaled = scaler.transform(input_data)\n",
    "\n",
    "    # Reshape the data to fit the LSTM input (samples, time steps, features)\n",
    "    input_data_reshaped = input_data_scaled.reshape((1, 1, 3))\n",
    "\n",
    "    # Predict the Close price\n",
    "    predicted_close_scaled = model.predict(input_data_reshaped)\n",
    "    \n",
    "    # Inverse transform the predicted data to original scale\n",
    "    predicted_close = scaler.inverse_transform(predicted_close_scaled)\n",
    "    \n",
    "    # Display the prediction result\n",
    "    st.write(f\"The predicted **Close Price** is: {predicted_close[0][0]:.2f}\")\n",
    "\n",
    "# Optional: Additional features like uploading a dataset for batch predictions, etc.\n"
   ]
  },
  {
   "cell_type": "code",
   "execution_count": null,
   "metadata": {},
   "outputs": [],
   "source": [
    "model = load_model('lstm_stock_model.h5')"
   ]
  },
  {
   "cell_type": "code",
   "execution_count": null,
   "metadata": {},
   "outputs": [],
   "source": [
    "open_price = st.number_input(\"Open Price\", min_value=0.0, format=\"%.2f\")\n",
    "high_price = st.number_input(\"High Price\", min_value=0.0, format=\"%.2f\")\n",
    "low_price = st.number_input(\"Low Price\", min_value=0.0, format=\"%.2f\")\n"
   ]
  },
  {
   "cell_type": "code",
   "execution_count": null,
   "metadata": {},
   "outputs": [],
   "source": [
    "input_data_scaled = scaler.transform(input_data)\n"
   ]
  },
  {
   "cell_type": "code",
   "execution_count": null,
   "metadata": {},
   "outputs": [],
   "source": [
    "input_data_reshaped = input_data_scaled.reshape((1, 1, 3))\n"
   ]
  },
  {
   "cell_type": "code",
   "execution_count": null,
   "metadata": {},
   "outputs": [],
   "source": [
    "predicted_close_scaled = model.predict(input_data_reshaped)\n"
   ]
  },
  {
   "cell_type": "code",
   "execution_count": null,
   "metadata": {},
   "outputs": [],
   "source": [
    "predicted_close = scaler.inverse_transform(predicted_close_scaled)\n"
   ]
  },
  {
   "cell_type": "code",
   "execution_count": null,
   "metadata": {},
   "outputs": [],
   "source": [
    "st.write(f\"The predicted **Close Price** is: {predicted_close[0][0]:.2f}\")"
   ]
  }
 ],
 "metadata": {
  "language_info": {
   "name": "python"
  }
 },
 "nbformat": 4,
 "nbformat_minor": 2
}
